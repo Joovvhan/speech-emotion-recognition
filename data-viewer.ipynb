{
 "cells": [
  {
   "cell_type": "code",
   "execution_count": 1,
   "metadata": {},
   "outputs": [],
   "source": [
    "from glob import glob\n",
    "import os\n",
    "import re\n",
    "import sys\n",
    "import random\n",
    "import itertools\n",
    "from collections import Counter, OrderedDict\n",
    "import matplotlib.pyplot as plt\n",
    "import numpy as np\n",
    "import matplotlib.colors as mcolors\n",
    "import librosa\n",
    "from tqdm.notebook import tqdm"
   ]
  },
  {
   "cell_type": "code",
   "execution_count": 2,
   "metadata": {},
   "outputs": [],
   "source": [
    "TABLEU_COLOURS = np.array([(31, 119, 180), (174, 199, 232), (255, 127, 14), (255, 187, 120),    \n",
    "                  (44, 160, 44), (152, 223, 138), (214, 39, 40), (255, 152, 150),    \n",
    "                  (148, 103, 189), (197, 176, 213), (140, 86, 75), (196, 156, 148),    \n",
    "                  (227, 119, 194), (247, 182, 210), (127, 127, 127), (199, 199, 199),    \n",
    "                  (188, 189, 34), (219, 219, 141), (23, 190, 207), (158, 218, 229)]) / 255"
   ]
  },
  {
   "cell_type": "code",
   "execution_count": 3,
   "metadata": {},
   "outputs": [],
   "source": [
    "from meta_loader import get_meta, emotions"
   ]
  },
  {
   "cell_type": "code",
   "execution_count": 4,
   "metadata": {},
   "outputs": [],
   "source": [
    "class EmotionCounter(Counter, OrderedDict):\n",
    "    \n",
    "    def __init__(self, *args):\n",
    "        for e in emotions:\n",
    "            self[e] = 0\n",
    "        super(EmotionCounter, self).__init__(*args)        "
   ]
  },
  {
   "cell_type": "code",
   "execution_count": 5,
   "metadata": {},
   "outputs": [],
   "source": [
    "def add_file_length(meta):\n",
    "    new_meta = list()\n",
    "    for m in tqdm(meta):\n",
    "        f_name = m[0]\n",
    "        t = 0\n",
    "        try:\n",
    "            if '.wav' in f_name:\n",
    "                t = librosa.core.get_duration(filename=f_name)\n",
    "            elif '.raw' in f_name:\n",
    "                audio = np.fromfile(f_name, dtype=np.int16)\n",
    "                t = len(audio) / 16000\n",
    "            new_meta.append((*m, t))\n",
    "            \n",
    "        except:\n",
    "            print(f'Error Loading {f_name}')\n",
    "    return new_meta"
   ]
  },
  {
   "cell_type": "code",
   "execution_count": 6,
   "metadata": {},
   "outputs": [],
   "source": [
    "def draw_polar_plot(counter, title=''):\n",
    "    fig, ax = plt.subplots(1, 1, figsize=(9, 9), subplot_kw=dict(polar=True))\n",
    "    plt.title(title, fontsize=24)\n",
    "    ticks = list(np.arange(0, 2 * np.pi, 2 * np.pi / len(counter))) + [0]\n",
    "    counts = list(counter.values())\n",
    "    ax.plot(ticks, counts + [counts[0]])\n",
    "    ax.fill(ticks, counts + [counts[0]], alpha=0.2)\n",
    "    # ax.set_xticklabels(e_counter.keys(), fontsize=18)\n",
    "    ax.set_xticklabels(counter.keys(), fontsize=18)\n",
    "    # plt.tight_layout()\n",
    "    ax.set_rlabel_position(90)\n",
    "    label = ax.get_xticklabels()\n",
    "    for l in label:\n",
    "        l.set_bbox(dict(facecolor='white', edgecolor='black')) \n",
    "    plt.show()\n",
    "    \n",
    "def draw_histogram_plot(counter, title=''):\n",
    "    fig, ax = plt.subplots(1, 1, figsize=(7, 8))\n",
    "    plt.title(title, fontsize=18)\n",
    "    plt.bar(counter.keys(), counter.values(), width=0.6)\n",
    "    plt.show()\n",
    "\n",
    "def draw_multi_histogram_plot(counters_and_labels, title='', sharey=False):\n",
    "#     fig, axes = plt.subplots(len(counters_and_labels), 1,\n",
    "#                              figsize=(8, 3 * len(counters_and_labels)),\n",
    "#                              sharey=sharey)\n",
    "    plt.subplots(1, 1, figsize=(6, 8))\n",
    "    plt.title(title, fontsize=18)\n",
    "    last_peaks = np.zeros_like(list(counters_and_labels[0][0].values()))\n",
    "    for i, (counter, label) in enumerate(counters_and_labels):\n",
    "#         x = np.arange(len(counter.keys()))\n",
    "        plt.bar(counter.keys(), counter.values(), \n",
    "               alpha=0.8, width=0.6, label=label,\n",
    "               bottom=last_peaks,\n",
    "               color=TABLEU_COLOURS[i % len(TABLEU_COLOURS)])\n",
    "        last_peaks += np.array(list(counter.values()))\n",
    "#     ax.set_xticks(x)\n",
    "#     ax.set_xticklabels(counter.keys())\n",
    "    \n",
    "    handles, labels = plt.gca().get_legend_handles_labels()\n",
    "    plt.legend(reversed(handles), reversed(labels), loc='upper right')\n",
    "    plt.tight_layout()\n",
    "    plt.show() \n",
    "    "
   ]
  },
  {
   "cell_type": "code",
   "execution_count": 7,
   "metadata": {},
   "outputs": [],
   "source": [
    "dataset_keywords = ['ACRYL', 'CREMA-D', 'EMOV', 'ShEMO', \n",
    "                    'BAVED', 'ANAD', 'TESS', 'EEKK',\n",
    "                    'JL-corpus', 'RAVDESS', 'VIVAE', 'URDU',   \n",
    "                    'CaFE', 'AESDD', 'SAVEE']"
   ]
  },
  {
   "cell_type": "code",
   "execution_count": 8,
   "metadata": {},
   "outputs": [],
   "source": [
    "meta = list(map(get_meta, dataset_keywords))"
   ]
  },
  {
   "cell_type": "code",
   "execution_count": 9,
   "metadata": {
    "scrolled": false
   },
   "outputs": [
    {
     "name": "stdout",
     "output_type": "stream",
     "text": [
      "# Emtions\n",
      "['happiness', 'anger', 'neutral', 'sadness', 'disgust', 'fear', 'surprise', 'sleepy']\n",
      "\n"
     ]
    },
    {
     "data": {
      "application/vnd.jupyter.widget-view+json": {
       "model_id": "481e480b768b44bd989e54bce5c3b961",
       "version_major": 2,
       "version_minor": 0
      },
      "text/plain": [
       "HBox(children=(IntProgress(value=0, max=22087), HTML(value='')))"
      ]
     },
     "metadata": {},
     "output_type": "display_data"
    },
    {
     "name": "stdout",
     "output_type": "stream",
     "text": [
      "\n"
     ]
    },
    {
     "data": {
      "application/vnd.jupyter.widget-view+json": {
       "model_id": "e04379cd7f0a4f80a51c1241bb5ee22b",
       "version_major": 2,
       "version_minor": 0
      },
      "text/plain": [
       "HBox(children=(IntProgress(value=0, max=7442), HTML(value='')))"
      ]
     },
     "metadata": {},
     "output_type": "display_data"
    },
    {
     "name": "stdout",
     "output_type": "stream",
     "text": [
      "\n"
     ]
    },
    {
     "data": {
      "application/vnd.jupyter.widget-view+json": {
       "model_id": "e2751d6071db41638e31ea58e0240c3c",
       "version_major": 2,
       "version_minor": 0
      },
      "text/plain": [
       "HBox(children=(IntProgress(value=0, max=6893), HTML(value='')))"
      ]
     },
     "metadata": {},
     "output_type": "display_data"
    },
    {
     "name": "stdout",
     "output_type": "stream",
     "text": [
      "\n"
     ]
    },
    {
     "data": {
      "application/vnd.jupyter.widget-view+json": {
       "model_id": "2bdf32c4661844458d8745a6dcc5ad88",
       "version_major": 2,
       "version_minor": 0
      },
      "text/plain": [
       "HBox(children=(IntProgress(value=0, max=3000), HTML(value='')))"
      ]
     },
     "metadata": {},
     "output_type": "display_data"
    },
    {
     "name": "stdout",
     "output_type": "stream",
     "text": [
      "\n"
     ]
    },
    {
     "data": {
      "application/vnd.jupyter.widget-view+json": {
       "model_id": "6494dd71c1ee405b89f52e7fba59f978",
       "version_major": 2,
       "version_minor": 0
      },
      "text/plain": [
       "HBox(children=(IntProgress(value=0, max=1257), HTML(value='')))"
      ]
     },
     "metadata": {},
     "output_type": "display_data"
    },
    {
     "name": "stdout",
     "output_type": "stream",
     "text": [
      "\n"
     ]
    },
    {
     "data": {
      "application/vnd.jupyter.widget-view+json": {
       "model_id": "141d5e6feb424a669065fa4fe2dad70f",
       "version_major": 2,
       "version_minor": 0
      },
      "text/plain": [
       "HBox(children=(IntProgress(value=0, max=1334), HTML(value='')))"
      ]
     },
     "metadata": {},
     "output_type": "display_data"
    },
    {
     "name": "stdout",
     "output_type": "stream",
     "text": [
      "\n"
     ]
    },
    {
     "data": {
      "application/vnd.jupyter.widget-view+json": {
       "model_id": "2e8260afe814432e9f89f1335279b7ef",
       "version_major": 2,
       "version_minor": 0
      },
      "text/plain": [
       "HBox(children=(IntProgress(value=0, max=2800), HTML(value='')))"
      ]
     },
     "metadata": {},
     "output_type": "display_data"
    },
    {
     "name": "stdout",
     "output_type": "stream",
     "text": [
      "\n"
     ]
    },
    {
     "data": {
      "application/vnd.jupyter.widget-view+json": {
       "model_id": "c5470d6a81f140388a8a406efcf6a540",
       "version_major": 2,
       "version_minor": 0
      },
      "text/plain": [
       "HBox(children=(IntProgress(value=0, max=1164), HTML(value='')))"
      ]
     },
     "metadata": {},
     "output_type": "display_data"
    },
    {
     "name": "stdout",
     "output_type": "stream",
     "text": [
      "\n"
     ]
    },
    {
     "data": {
      "application/vnd.jupyter.widget-view+json": {
       "model_id": "71c57a3743de4f0eadb68d633afac2e5",
       "version_major": 2,
       "version_minor": 0
      },
      "text/plain": [
       "HBox(children=(IntProgress(value=0, max=960), HTML(value='')))"
      ]
     },
     "metadata": {},
     "output_type": "display_data"
    },
    {
     "name": "stdout",
     "output_type": "stream",
     "text": [
      "\n"
     ]
    },
    {
     "data": {
      "application/vnd.jupyter.widget-view+json": {
       "model_id": "3a35651fa6e8438daeaf0c3e27b57c4a",
       "version_major": 2,
       "version_minor": 0
      },
      "text/plain": [
       "HBox(children=(IntProgress(value=0, max=1248), HTML(value='')))"
      ]
     },
     "metadata": {},
     "output_type": "display_data"
    },
    {
     "name": "stdout",
     "output_type": "stream",
     "text": [
      "\n"
     ]
    },
    {
     "data": {
      "application/vnd.jupyter.widget-view+json": {
       "model_id": "87e75254a65344eb87fbaa172a597b26",
       "version_major": 2,
       "version_minor": 0
      },
      "text/plain": [
       "HBox(children=(IntProgress(value=0, max=900), HTML(value='')))"
      ]
     },
     "metadata": {},
     "output_type": "display_data"
    },
    {
     "name": "stdout",
     "output_type": "stream",
     "text": [
      "\n"
     ]
    },
    {
     "data": {
      "application/vnd.jupyter.widget-view+json": {
       "model_id": "03674e3c02084e48a54c7d21b25c5fbf",
       "version_major": 2,
       "version_minor": 0
      },
      "text/plain": [
       "HBox(children=(IntProgress(value=0, max=400), HTML(value='')))"
      ]
     },
     "metadata": {},
     "output_type": "display_data"
    },
    {
     "name": "stdout",
     "output_type": "stream",
     "text": [
      "\n"
     ]
    },
    {
     "data": {
      "application/vnd.jupyter.widget-view+json": {
       "model_id": "23aefbb773a145959dc6cd688978ec4b",
       "version_major": 2,
       "version_minor": 0
      },
      "text/plain": [
       "HBox(children=(IntProgress(value=0, max=936), HTML(value='')))"
      ]
     },
     "metadata": {},
     "output_type": "display_data"
    },
    {
     "name": "stdout",
     "output_type": "stream",
     "text": [
      "\n"
     ]
    },
    {
     "data": {
      "application/vnd.jupyter.widget-view+json": {
       "model_id": "45e5aabcb74449298bad88da0ff15935",
       "version_major": 2,
       "version_minor": 0
      },
      "text/plain": [
       "HBox(children=(IntProgress(value=0, max=605), HTML(value='')))"
      ]
     },
     "metadata": {},
     "output_type": "display_data"
    },
    {
     "name": "stdout",
     "output_type": "stream",
     "text": [
      "Error Loading Acted Emotional Speech Dynamic Database/sadness/s05 (3).wav\n",
      "\n"
     ]
    },
    {
     "data": {
      "application/vnd.jupyter.widget-view+json": {
       "model_id": "4ddd31c0b5a54ad5b3bffbd1214de332",
       "version_major": 2,
       "version_minor": 0
      },
      "text/plain": [
       "HBox(children=(IntProgress(value=0, max=480), HTML(value='')))"
      ]
     },
     "metadata": {},
     "output_type": "display_data"
    },
    {
     "name": "stdout",
     "output_type": "stream",
     "text": [
      "\n",
      "# Meta data size\n",
      "ACRYL     : 22087 > 22087\n",
      "CREMA-D   :  7442 >  7442\n",
      "EMOV      :  6893 >  6893\n",
      "ShEMO     :  3000 >  3000\n",
      "BAVED     :  1935 >  1257\n",
      "ANAD      :  1334 >  1334\n",
      "TESS      :  2800 >  2800\n",
      "EEKK      :  1164 >  1164\n",
      "JL-corpus :  2400 >   960\n",
      "RAVDESS   :  1440 >  1248\n",
      "VIVAE     :  1085 >   900\n",
      "URDU      :   400 >   400\n",
      "CaFE      :   936 >   936\n",
      "AESDD     :   605 >   604\n",
      "SAVEE     :   480 >   480\n",
      "SUM       : 54001 > 51505\n"
     ]
    }
   ],
   "source": [
    "print('# Emtions')\n",
    "print(emotions)\n",
    "print()\n",
    "\n",
    "filtered_meta = [list(filter(lambda x: x[2] in emotions, m)) for m in meta]\n",
    "filtered_meta = list(map(add_file_length, filtered_meta))\n",
    "\n",
    "print('# Meta data size')\n",
    "for name, m, f_m in zip(dataset_keywords, meta, filtered_meta):\n",
    "    print(f'{name:10}: {len(m):>5} > {len(f_m):>5}')\n",
    "print(f'{\"SUM\":10}: {sum(map(len, meta)):>5} > {sum(map(len, filtered_meta)):>5}')    \n",
    "      \n",
    "# for m in meta:\n",
    "#     print(random.choice(m))   \n",
    "\n",
    "# meta_flat = list(itertools.chain.from_iterable(meta))\n",
    "meta_flat = list(itertools.chain.from_iterable(filtered_meta))"
   ]
  },
  {
   "cell_type": "code",
   "execution_count": 10,
   "metadata": {
    "scrolled": false
   },
   "outputs": [
    {
     "name": "stdout",
     "output_type": "stream",
     "text": [
      "51505 Files\n"
     ]
    },
    {
     "data": {
      "image/png": "[encoded data removed]",
      "text/plain": [
       "<Figure size 504x576 with 1 Axes>"
      ]
     },
     "metadata": {
      "needs_background": "light"
     },
     "output_type": "display_data"
    },
    {
     "data": {
      "image/png": "[encoded data removed]",
      "text/plain": [
       "<Figure size 432x576 with 1 Axes>"
      ]
     },
     "metadata": {
      "needs_background": "light"
     },
     "output_type": "display_data"
    }
   ],
   "source": [
    "e_counter = EmotionCounter([e for f_name, s, e, t in meta_flat])\n",
    "\n",
    "# print(e_counter)\n",
    "print(f'{sum(e_counter.values())} Files')\n",
    "\n",
    "# draw_polar_plot(e_counter, 'Total')\n",
    "draw_histogram_plot(e_counter, 'Sum of Emotional Speech Datasets')\n",
    "\n",
    "counters = list()\n",
    "for name, m in zip(dataset_keywords, filtered_meta):\n",
    "    e_counter = EmotionCounter([e for f_name, s, e, t in m])\n",
    "    counters.append((e_counter, name))\n",
    "    \n",
    "draw_multi_histogram_plot(counters, 'Emotional Speech Datasets')\n",
    "#     draw_histogram_plot(e_counter, name)"
   ]
  },
  {
   "cell_type": "code",
   "execution_count": 11,
   "metadata": {},
   "outputs": [
    {
     "name": "stdout",
     "output_type": "stream",
     "text": [
      "229952.42 Seconds\n",
      "3832.54 Minutes\n",
      "63.88 Hours\n"
     ]
    },
    {
     "data": {
      "image/png": "[encoded data removed]",
      "text/plain": [
       "<Figure size 504x576 with 1 Axes>"
      ]
     },
     "metadata": {
      "needs_background": "light"
     },
     "output_type": "display_data"
    },
    {
     "data": {
      "image/png": "[encoded data removed]",
      "text/plain": [
       "<Figure size 432x576 with 1 Axes>"
      ]
     },
     "metadata": {
      "needs_background": "light"
     },
     "output_type": "display_data"
    }
   ],
   "source": [
    "e_counter = EmotionCounter()\n",
    "for f_name, s, e, t in meta_flat:\n",
    "    e_counter[e] += t\n",
    "# print(e_counter)\n",
    "\n",
    "print(f'{sum(e_counter.values()):.2f} Seconds')\n",
    "print(f'{sum(e_counter.values())/60:.2f} Minutes')\n",
    "print(f'{sum(e_counter.values())/3600:.2f} Hours')\n",
    "\n",
    "# draw_polar_plot(e_counter, 'Total')\n",
    "draw_histogram_plot(e_counter, 'Sum of Emotional Speech Datasets Secs.')\n",
    "\n",
    "counters = list()\n",
    "for name, m in zip(dataset_keywords, filtered_meta):\n",
    "    e_counter = EmotionCounter()\n",
    "    for f_name, s, e, t in m:\n",
    "        e_counter[e] += t\n",
    "    counters.append((e_counter, name))\n",
    "    \n",
    "draw_multi_histogram_plot(counters, 'Emotional Speech Datasets Secs.')\n",
    "#     draw_histogram_plot(e_counter, name)"
   ]
  },
  {
   "cell_type": "code",
   "execution_count": 12,
   "metadata": {},
   "outputs": [],
   "source": [
    "fs_list = [[librosa.core.get_samplerate(m[0]) for m in meta \n",
    "            if '.wav' in m[0]] \n",
    "           for meta in filtered_meta]    "
   ]
  },
  {
   "cell_type": "code",
   "execution_count": 13,
   "metadata": {},
   "outputs": [
    {
     "name": "stdout",
     "output_type": "stream",
     "text": [
      "ACRYL     | Counter()\n",
      "CREMA-D   | Counter({16000: 7442})\n",
      "EMOV      | Counter({16000: 5106, 44100: 1787})\n",
      "ShEMO     | Counter({44100: 2869, 22050: 131})\n",
      "BAVED     | Counter({16000: 1257})\n",
      "ANAD      | Counter({44100: 1334})\n",
      "TESS      | Counter({24414: 2799, 96000: 1})\n",
      "EEKK      | Counter({44100: 1164})\n",
      "JL-corpus | Counter({44100: 960})\n",
      "RAVDESS   | Counter({48000: 1248})\n",
      "VIVAE     | Counter({44100: 900})\n",
      "URDU      | Counter({44100: 400})\n",
      "CaFE      | Counter({48000: 936})\n",
      "AESDD     | Counter({44100: 604})\n",
      "SAVEE     | Counter({44100: 480})\n"
     ]
    }
   ],
   "source": [
    "for d, fs in zip(dataset_keywords, fs_list):\n",
    "    c = Counter(fs)\n",
    "    print(f'{d:10}|', c)"
   ]
  },
  {
   "cell_type": "code",
   "execution_count": 14,
   "metadata": {},
   "outputs": [],
   "source": [
    "from scipy.io import wavfile"
   ]
  },
  {
   "cell_type": "code",
   "execution_count": 15,
   "metadata": {},
   "outputs": [],
   "source": [
    "def convert_to_resampled_file(file):\n",
    "    resampled_file = os.path.join('resampled', file).replace('.raw', '.wav')\n",
    "    return resampled_file"
   ]
  },
  {
   "cell_type": "code",
   "execution_count": 16,
   "metadata": {},
   "outputs": [],
   "source": [
    "def load_wav(file, save_resampled=True):\n",
    "    \n",
    "    resampled_file = convert_to_resampled_file(file)\n",
    "    \n",
    "    if os.path.isfile(resampled_file):\n",
    "        y, fs = librosa.core.load(file, sr=None)\n",
    "    else:\n",
    "        if '.raw' in file:\n",
    "            y = np.fromfile(file, dtype=np.int16)\n",
    "            y = y / 2 ** 15\n",
    "\n",
    "        elif '.wav' in file:\n",
    "\n",
    "            y, fs = librosa.core.load(file, sr=None)\n",
    "\n",
    "            if fs == 16000:\n",
    "                return y\n",
    "            elif fs % 16000 == 0:\n",
    "                step = int(fs / 16000)\n",
    "                offset = random.randint(0, step)\n",
    "                return y[offset::step]\n",
    "            else:\n",
    "                y, fs = librosa.core.load(file, sr=16000)\n",
    "        else: assert False, f'Invalid File Format {file}'\n",
    "        \n",
    "        if save_resampled:\n",
    "            os.makedirs(os.path.dirname(resampled_file), exist_ok=True)\n",
    "            int_y = (y * 2 ** 15).astype(np.int16)\n",
    "            wavfile.write(resampled_file, 16000, y)\n",
    "        \n",
    "    return y"
   ]
  },
  {
   "cell_type": "code",
   "execution_count": 17,
   "metadata": {},
   "outputs": [],
   "source": [
    "def split_meta(meta_list, ratio=0.05):\n",
    "    \n",
    "    num_test = int(len(meta_list) * ratio)\n",
    "    \n",
    "    random.shuffle(meta_list)\n",
    "    \n",
    "    meta_valid = sorted(meta_list[:num_test])\n",
    "    meta_train = sorted(meta_list[num_test:])\n",
    "    \n",
    "    return meta_train, meta_valid"
   ]
  },
  {
   "cell_type": "code",
   "execution_count": 18,
   "metadata": {},
   "outputs": [],
   "source": [
    "meta_train = list()\n",
    "meta_valid = list()\n",
    "\n",
    "for m in filtered_meta:\n",
    "    train, valid = split_meta(m)\n",
    "    meta_train.append(train)\n",
    "    meta_valid.append(valid)"
   ]
  },
  {
   "cell_type": "code",
   "execution_count": 19,
   "metadata": {},
   "outputs": [
    {
     "data": {
      "image/png": "[encoded data removed]",
      "text/plain": [
       "<Figure size 432x576 with 1 Axes>"
      ]
     },
     "metadata": {
      "needs_background": "light"
     },
     "output_type": "display_data"
    },
    {
     "data": {
      "image/png": "[encoded data removed]",
      "text/plain": [
       "<Figure size 432x576 with 1 Axes>"
      ]
     },
     "metadata": {
      "needs_background": "light"
     },
     "output_type": "display_data"
    }
   ],
   "source": [
    "counters = list()\n",
    "for name, m in zip(dataset_keywords, meta_train):\n",
    "    e_counter = EmotionCounter()\n",
    "    for f_name, s, e, t in m:\n",
    "        e_counter[e] += t\n",
    "    counters.append((e_counter, name))\n",
    "    \n",
    "draw_multi_histogram_plot(counters, 'Emotional Speech Train Datasets Secs.')\n",
    "\n",
    "counters = list()\n",
    "for name, m in zip(dataset_keywords, meta_valid):\n",
    "    e_counter = EmotionCounter()\n",
    "    for f_name, s, e, t in m:\n",
    "        e_counter[e] += t\n",
    "    counters.append((e_counter, name))\n",
    "    \n",
    "draw_multi_histogram_plot(counters, 'Emotional Speech Valid Datasets Secs.')"
   ]
  },
  {
   "cell_type": "code",
   "execution_count": 20,
   "metadata": {},
   "outputs": [],
   "source": [
    "meta_train_flat = list(itertools.chain(*meta_train))\n",
    "meta_valid_flat = list(itertools.chain(*meta_valid))"
   ]
  },
  {
   "cell_type": "code",
   "execution_count": 26,
   "metadata": {},
   "outputs": [],
   "source": [
    "meta_train_flat.sort(key=lambda x: x[-1])\n",
    "meta_valid_flat.sort(key=lambda x: x[-1])"
   ]
  },
  {
   "cell_type": "code",
   "execution_count": 27,
   "metadata": {},
   "outputs": [
    {
     "data": {
      "text/plain": [
       "('ANAD/1sec_segmented_part3/1sec_segmented_part3/V7_1 (140).wav',\n",
       " 'ANAD',\n",
       " 'anger',\n",
       " 0.09532879818594105)"
      ]
     },
     "execution_count": 27,
     "metadata": {},
     "output_type": "execute_result"
    }
   ],
   "source": [
    "meta_valid_flat[0]"
   ]
  },
  {
   "cell_type": "code",
   "execution_count": 22,
   "metadata": {},
   "outputs": [
    {
     "data": {
      "text/plain": [
       "48934"
      ]
     },
     "execution_count": 22,
     "metadata": {},
     "output_type": "execute_result"
    }
   ],
   "source": [
    "len(meta_train_flat)"
   ]
  },
  {
   "cell_type": "code",
   "execution_count": 23,
   "metadata": {},
   "outputs": [
    {
     "data": {
      "text/plain": [
       "2571"
      ]
     },
     "execution_count": 23,
     "metadata": {},
     "output_type": "execute_result"
    }
   ],
   "source": [
    "len(meta_valid_flat)"
   ]
  },
  {
   "cell_type": "code",
   "execution_count": null,
   "metadata": {},
   "outputs": [],
   "source": [
    "# 51505/51505 [25:01<00:00, 34.30it/s]\n",
    "# [load_wav(m[0]) for m in tqdm(meta_flat)]"
   ]
  }
 ],
 "metadata": {
  "kernelspec": {
   "display_name": "Python 3",
   "language": "python",
   "name": "python3"
  },
  "language_info": {
   "codemirror_mode": {
    "name": "ipython",
    "version": 3
   },
   "file_extension": ".py",
   "mimetype": "text/x-python",
   "name": "python",
   "nbconvert_exporter": "python",
   "pygments_lexer": "ipython3",
   "version": "3.7.5"
  }
 },
 "nbformat": 4,
 "nbformat_minor": 2
}
