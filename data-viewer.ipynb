{
 "cells": [
  {
   "cell_type": "code",
   "execution_count": 1,
   "metadata": {},
   "outputs": [],
   "source": [
    "from glob import glob\n",
    "import os\n",
    "import re\n",
    "import sys\n",
    "import random\n",
    "import itertools\n",
    "from collections import Counter, OrderedDict\n",
    "import matplotlib.pyplot as plt\n",
    "import numpy as np\n",
    "import matplotlib.colors as mcolors"
   ]
  },
  {
   "cell_type": "code",
   "execution_count": 2,
   "metadata": {},
   "outputs": [],
   "source": [
    "TABLEU_COLOURS = np.array([(31, 119, 180), (174, 199, 232), (255, 127, 14), (255, 187, 120),    \n",
    "                  (44, 160, 44), (152, 223, 138), (214, 39, 40), (255, 152, 150),    \n",
    "                  (148, 103, 189), (197, 176, 213), (140, 86, 75), (196, 156, 148),    \n",
    "                  (227, 119, 194), (247, 182, 210), (127, 127, 127), (199, 199, 199),    \n",
    "                  (188, 189, 34), (219, 219, 141), (23, 190, 207), (158, 218, 229)]) / 255"
   ]
  },
  {
   "cell_type": "code",
   "execution_count": 3,
   "metadata": {},
   "outputs": [],
   "source": [
    "from meta_loader import get_meta, emotions"
   ]
  },
  {
   "cell_type": "code",
   "execution_count": 4,
   "metadata": {},
   "outputs": [],
   "source": [
    "class EmotionCounter(Counter, OrderedDict):\n",
    "    \n",
    "    def __init__(self, *args):\n",
    "        for e in emotions:\n",
    "            self[e] = 0\n",
    "        super(EmotionCounter, self).__init__(*args)"
   ]
  },
  {
   "cell_type": "code",
   "execution_count": 5,
   "metadata": {},
   "outputs": [],
   "source": [
    "# e_counter = EmotionCounter([e for f_name, s, e in meta_flat])\n",
    "# print(e_counter)\n",
    "\n",
    "# for m in filtered_meta:\n",
    "#     e_counter = EmotionCounter([e for f_name, s, e in m])\n",
    "#     print(e_counter.keys())\n",
    "#     print(e_counter.values())\n"
   ]
  },
  {
   "cell_type": "code",
   "execution_count": 6,
   "metadata": {},
   "outputs": [],
   "source": [
    "def draw_polar_plot(counter, title=''):\n",
    "    fig, ax = plt.subplots(1, 1, figsize=(9, 9), subplot_kw=dict(polar=True))\n",
    "    plt.title(title, fontsize=24)\n",
    "    ticks = list(np.arange(0, 2 * np.pi, 2 * np.pi / len(counter))) + [0]\n",
    "    counts = list(counter.values())\n",
    "    ax.plot(ticks, counts + [counts[0]])\n",
    "    ax.fill(ticks, counts + [counts[0]], alpha=0.2)\n",
    "    # ax.set_xticklabels(e_counter.keys(), fontsize=18)\n",
    "    ax.set_xticklabels(counter.keys(), fontsize=18)\n",
    "    # plt.tight_layout()\n",
    "    ax.set_rlabel_position(90)\n",
    "    label = ax.get_xticklabels()\n",
    "    for l in label:\n",
    "        l.set_bbox(dict(facecolor='white', edgecolor='black')) \n",
    "    plt.show()\n",
    "    \n",
    "def draw_histogram_plot(counter, title=''):\n",
    "    fig, ax = plt.subplots(1, 1, figsize=(7, 8))\n",
    "    plt.title(title, fontsize=18)\n",
    "    plt.bar(counter.keys(), counter.values(), width=0.6)\n",
    "    plt.show()\n",
    "\n",
    "def draw_multi_histogram_plot(counters_and_labels, title='', sharey=False):\n",
    "#     fig, axes = plt.subplots(len(counters_and_labels), 1,\n",
    "#                              figsize=(8, 3 * len(counters_and_labels)),\n",
    "#                              sharey=sharey)\n",
    "    plt.subplots(1, 1, figsize=(6, 8))\n",
    "    plt.title(title, fontsize=18)\n",
    "    last_peaks = np.zeros_like(list(counters_and_labels[0][0].values()))\n",
    "    for i, (counter, label) in enumerate(counters_and_labels):\n",
    "#         x = np.arange(len(counter.keys()))\n",
    "        plt.bar(counter.keys(), counter.values(), \n",
    "               alpha=0.8, width=0.6, label=label,\n",
    "               bottom=last_peaks,\n",
    "               color=TABLEU_COLOURS[i % len(TABLEU_COLOURS)])\n",
    "        last_peaks += np.array(list(counter.values()))\n",
    "#     ax.set_xticks(x)\n",
    "#     ax.set_xticklabels(counter.keys())\n",
    "    \n",
    "    handles, labels = plt.gca().get_legend_handles_labels()\n",
    "    plt.legend(reversed(handles), reversed(labels), loc='upper right')\n",
    "    plt.tight_layout()\n",
    "    plt.show() \n",
    "    "
   ]
  },
  {
   "cell_type": "code",
   "execution_count": 7,
   "metadata": {},
   "outputs": [],
   "source": [
    "dataset_keywords = ['ACRYL', 'CREMA-D', 'EMOV', 'ShEMO', \n",
    "                    'BAVED', 'ANAD', 'TESS', 'EEKK',\n",
    "                    'JL-corpus', 'RAVDESS', 'VIVAE', 'URDU',   \n",
    "                    'CaFE', 'AESDD', 'SAVEE']"
   ]
  },
  {
   "cell_type": "code",
   "execution_count": 8,
   "metadata": {},
   "outputs": [],
   "source": [
    "meta = list(map(get_meta, dataset_keywords))"
   ]
  },
  {
   "cell_type": "code",
   "execution_count": 9,
   "metadata": {},
   "outputs": [
    {
     "name": "stdout",
     "output_type": "stream",
     "text": [
      "# Emtions\n",
      "['happiness', 'anger', 'neutral', 'sadness', 'disgust', 'fear', 'surprise', 'sleepy']\n",
      "\n",
      "# Meta data size\n",
      "ACRYL     : 22087 > 22087\n",
      "CREMA-D   :  7442 >  7442\n",
      "EMOV      :  6893 >  6893\n",
      "ShEMO     :  3000 >  3000\n",
      "BAVED     :  1935 >  1257\n",
      "ANAD      :  1334 >  1334\n",
      "TESS      :  2800 >  2800\n",
      "EEKK      :  1164 >  1164\n",
      "JL-corpus :  2400 >   960\n",
      "RAVDESS   :  1440 >  1248\n",
      "VIVAE     :  1085 >   900\n",
      "URDU      :   400 >   400\n",
      "CaFE      :   936 >   936\n",
      "AESDD     :   605 >   605\n",
      "SAVEE     :   480 >   480\n",
      "SUM       : 54001 > 51506\n"
     ]
    }
   ],
   "source": [
    "print('# Emtions')\n",
    "print(emotions)\n",
    "print()\n",
    "\n",
    "filtered_meta = [list(filter(lambda x: x[2] in emotions, m)) for m in meta]\n",
    "\n",
    "print('# Meta data size')\n",
    "for name, m, f_m in zip(dataset_keywords, meta, filtered_meta):\n",
    "    print(f'{name:10}: {len(m):>5} > {len(f_m):>5}')\n",
    "print(f'{\"SUM\":10}: {sum(map(len, meta)):>5} > {sum(map(len, filtered_meta)):>5}')    \n",
    "      \n",
    "# for m in meta:\n",
    "#     print(random.choice(m))   \n",
    "\n",
    "# meta_flat = list(itertools.chain.from_iterable(meta))\n",
    "meta_flat = list(itertools.chain.from_iterable(filtered_meta))"
   ]
  },
  {
   "cell_type": "code",
   "execution_count": 10,
   "metadata": {
    "scrolled": false
   },
   "outputs": [
    {
     "name": "stdout",
     "output_type": "stream",
     "text": [
      "EmotionCounter({'happiness': 9078, 'anger': 9058, 'neutral': 8721, 'sadness': 6974, 'disgust': 6208, 'fear': 5401, 'surprise': 4345, 'sleepy': 1721})\n"
     ]
    },
    {
     "data": {
      "image/png": "[encoded data removed]",
      "text/plain": [
       "<Figure size 504x576 with 1 Axes>"
      ]
     },
     "metadata": {
      "needs_background": "light"
     },
     "output_type": "display_data"
    },
    {
     "data": {
      "image/png": "[encoded data removed]",
      "text/plain": [
       "<Figure size 432x576 with 1 Axes>"
      ]
     },
     "metadata": {
      "needs_background": "light"
     },
     "output_type": "display_data"
    }
   ],
   "source": [
    "e_counter = EmotionCounter([e for f_name, s, e in meta_flat])\n",
    "\n",
    "print(e_counter)\n",
    "\n",
    "# draw_polar_plot(e_counter, 'Total')\n",
    "draw_histogram_plot(e_counter, 'Sum of Emotional Speech Datasets')\n",
    "\n",
    "counters = list()\n",
    "for name, m in zip(dataset_keywords, filtered_meta):\n",
    "    e_counter = EmotionCounter([e for f_name, s, e in m])\n",
    "    counters.append((e_counter, name))\n",
    "    \n",
    "draw_multi_histogram_plot(counters, 'Emotional Speech Datasets')\n",
    "#     draw_histogram_plot(e_counter, name)"
   ]
  }
 ],
 "metadata": {
  "kernelspec": {
   "display_name": "Python 3",
   "language": "python",
   "name": "python3"
  },
  "language_info": {
   "codemirror_mode": {
    "name": "ipython",
    "version": 3
   },
   "file_extension": ".py",
   "mimetype": "text/x-python",
   "name": "python",
   "nbconvert_exporter": "python",
   "pygments_lexer": "ipython3",
   "version": "3.7.5"
  }
 },
 "nbformat": 4,
 "nbformat_minor": 2
}
